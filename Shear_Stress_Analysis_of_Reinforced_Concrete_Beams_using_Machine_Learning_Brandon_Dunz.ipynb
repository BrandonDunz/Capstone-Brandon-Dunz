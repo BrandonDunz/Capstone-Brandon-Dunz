{
  "nbformat": 4,
  "nbformat_minor": 0,
  "metadata": {
    "colab": {
      "provenance": [],
      "collapsed_sections": [
        "vXSiZHwNT4Ds",
        "GnCUfi6dUHOt",
        "yQcZlrv6Rcdl",
        "3X6puVMNSo5c",
        "eXzemn5tA-mv",
        "cnDdlTPK9SdX",
        "t6EkNuj0VYfQ",
        "l8_MkyWxVXuE",
        "jFE6s8bNB27b",
        "4EzfBEbqEG8_",
        "VT6_Y6EzFLDn",
        "ezRu_47oG59Q",
        "heyzV_GsHAhS",
        "qCDVEJDTIZWq",
        "rwSgIHA20ll_"
      ]
    },
    "kernelspec": {
      "name": "python3",
      "display_name": "Python 3"
    },
    "language_info": {
      "name": "python"
    }
  },
  "cells": [
    {
      "cell_type": "markdown",
      "source": [
        "# README\n",
        "\n",
        "### Shear Stress Analysis of Reinforced Concrete Beams using Machine Learning Algorithms\n",
        "\n",
        "This code is broken down into 6 main parts:\n",
        "\n",
        "*   Data/Package Importation\n",
        "*   Pre-Processing & Feature Engineering for Classification\n",
        "*   Classification Model Training\n",
        "*   Pre-Processing & Feature Engineering for Regression\n",
        "*   Regression Model Training\n",
        "*   Model Evaluation\n",
        "\n",
        "Each part is dependent on the previous section so code must be ran in order\n"
      ],
      "metadata": {
        "id": "jmCKCRiGPg6D"
      }
    },
    {
      "cell_type": "markdown",
      "source": [
        "# Data/Package Importation"
      ],
      "metadata": {
        "id": "vXSiZHwNT4Ds"
      }
    },
    {
      "cell_type": "code",
      "execution_count": 1,
      "metadata": {
        "id": "cobKv0TJTwYR"
      },
      "outputs": [],
      "source": [
        "import numpy as np\n",
        "import pandas as pd\n",
        "import matplotlib.pyplot as plt\n",
        "import sklearn as sk\n",
        "import csv\n",
        "from sklearn.preprocessing import StandardScaler\n",
        "from itertools import combinations\n",
        "from sklearn.svm import SVC\n",
        "from sklearn.model_selection import train_test_split, learning_curve\n",
        "from sklearn.metrics import accuracy_score, confusion_matrix, log_loss, make_scorer\n",
        "import seaborn as sns\n",
        "from sklearn.ensemble import RandomForestClassifier\n",
        "from sklearn.model_selection import train_test_split\n",
        "from sklearn.linear_model import LinearRegression\n",
        "from sklearn.feature_selection import RFE\n",
        "from sklearn.metrics import mean_squared_error, r2_score\n",
        "from sklearn.tree import DecisionTreeRegressor\n",
        "from sklearn.ensemble import RandomForestRegressor, GradientBoostingRegressor, HistGradientBoostingRegressor\n",
        "from sklearn.svm import SVR\n",
        "from sklearn.decomposition import PCA\n",
        "from sklearn.cluster import KMeans\n",
        "from sklearn.preprocessing import StandardScaler"
      ]
    },
    {
      "cell_type": "code",
      "source": [
        "df = pd.read_csv('Beams_ML.csv')"
      ],
      "metadata": {
        "id": "FfiXfSd_T7dU"
      },
      "execution_count": 3,
      "outputs": []
    },
    {
      "cell_type": "markdown",
      "source": [
        "# Pre-Processing & Feature Engineering for Classification"
      ],
      "metadata": {
        "id": "GnCUfi6dUHOt"
      }
    },
    {
      "cell_type": "code",
      "source": [
        "#Define a function to assign beam class based on value of shear span ratio\n",
        "def classify_beam(a_d):\n",
        "    if a_d < 1:\n",
        "        return \"very short\"\n",
        "    elif 1 <= a_d < 2.5:\n",
        "        return \"short\"\n",
        "    elif 2.5 <= a_d < 6:\n",
        "        return \"slender\"\n",
        "    else:\n",
        "        return \"very slender\"\n",
        "\n",
        "# Apply beam class function and append column to dataframe\n",
        "df['beam_class'] = df['a_d'].apply(lambda x: classify_beam(x))"
      ],
      "metadata": {
        "id": "GcW_2KenUhkw"
      },
      "execution_count": 4,
      "outputs": []
    },
    {
      "cell_type": "markdown",
      "source": [
        "Seperate Beams with and without shear reinforcement"
      ],
      "metadata": {
        "id": "OO-YA8ktVbTd"
      }
    },
    {
      "cell_type": "code",
      "source": [
        "df_withshear = df[df['Av'] != 0]\n",
        "df_withoutshear = df[df['Av'] == 0]"
      ],
      "metadata": {
        "id": "ARbYRh2yVQHl"
      },
      "execution_count": 5,
      "outputs": []
    },
    {
      "cell_type": "markdown",
      "source": [
        "Standardize Classification Features for each data frame"
      ],
      "metadata": {
        "id": "yTWrnLdcVs5f"
      }
    },
    {
      "cell_type": "code",
      "source": [
        "# Define a function to standardize the features\n",
        "def standardize_features(df):\n",
        "    scaler = StandardScaler()\n",
        "    scaled_df = pd.DataFrame(scaler.fit_transform(df), columns=df.columns)\n",
        "    return scaled_df"
      ],
      "metadata": {
        "id": "RivKNOP8VxKd"
      },
      "execution_count": 6,
      "outputs": []
    },
    {
      "cell_type": "code",
      "source": [
        "classification_features_shear = df_withshear[[\"Mn\", \"Mf\", \"Mf_Mn\", \"fpc\", \"fcttest\", \"agg\", \"L\", \"aa\", \"ba\", \"a_d\", \"M_Vd\"]]\n",
        "classification_features_shear = standardize_features(classification_features_shear)\n",
        "classification_features_no_shear = df_withoutshear[[\"Mn\", \"Mf\", \"Mf_Mn\", \"fpc\", \"fcttest\", \"agg\", \"L\", \"aa\", \"ba\", \"a_d\", \"M_Vd\"]]\n",
        "classification_features_no_shear = standardize_features(classification_features_no_shear)"
      ],
      "metadata": {
        "id": "JMWbpPnNWWIS"
      },
      "execution_count": 7,
      "outputs": []
    },
    {
      "cell_type": "markdown",
      "source": [
        "# Classification Model Training"
      ],
      "metadata": {
        "id": "yQcZlrv6Rcdl"
      }
    },
    {
      "cell_type": "markdown",
      "source": [
        "## Beams with Shear Reinforcement"
      ],
      "metadata": {
        "id": "3X6puVMNSo5c"
      }
    },
    {
      "cell_type": "markdown",
      "source": [
        "Exhaustive Search for Beams with Shear Reinforcement using SVC"
      ],
      "metadata": {
        "id": "pu3d4VCQW8Of"
      }
    },
    {
      "cell_type": "code",
      "source": [
        "# Extract features and target variable\n",
        "X = classification_features_shear.values  # Features\n",
        "y = df_withshear['beam_class']  # Target variable\n",
        "\n",
        "# Split data into training and testing sets\n",
        "X_train, X_test, y_train, y_test = train_test_split(X, y, test_size=0.2, random_state=42)\n",
        "\n",
        "# List to store results\n",
        "results = []\n",
        "\n",
        "# Iterate through all possible combinations of features\n",
        "for r in range(1, len(classification_features_shear.columns) + 1):\n",
        "    for feature_combo in combinations(classification_features_shear.columns, r):\n",
        "        # Extract features based on the current combination\n",
        "        X_train_subset = X_train[:, classification_features_shear.columns.isin(feature_combo)]\n",
        "        X_test_subset = X_test[:, classification_features_shear.columns.isin(feature_combo)]\n",
        "\n",
        "        # Train SVM classifier\n",
        "        svm = SVC()\n",
        "        svm.fit(X_train_subset, y_train)\n",
        "\n",
        "        # Make predictions\n",
        "        y_pred = svm.predict(X_test_subset)\n",
        "\n",
        "        # Calculate accuracy\n",
        "        accuracy = accuracy_score(y_test, y_pred)\n",
        "\n",
        "        # Store results\n",
        "        results.append((feature_combo, accuracy))\n",
        "\n",
        "# Sort results by accuracy\n",
        "results.sort(key=lambda x: x[1], reverse=True)\n",
        "\n",
        "#Extract combination of inputs that yields highest accuracy\n",
        "top_features_shear, top_accuracy_shear = results[0]\n",
        "\n",
        "# Print top combinations and their accuracies\n",
        "for i in range(5):  # Print top 5 combinations\n",
        "    print(\"Features:\", results[i][0])\n",
        "    print(\"Accuracy:\", results[i][1])\n",
        "    print()"
      ],
      "metadata": {
        "colab": {
          "base_uri": "https://localhost:8080/"
        },
        "id": "IJiLYZljXO7H",
        "outputId": "59d521ce-a531-4169-ada7-a69694828c48"
      },
      "execution_count": 71,
      "outputs": [
        {
          "output_type": "stream",
          "name": "stdout",
          "text": [
            "Features: ('Mf', 'aa', 'a_d', 'M_Vd')\n",
            "Accuracy: 1.0\n",
            "\n",
            "Features: ('Mn', 'agg', 'a_d')\n",
            "Accuracy: 0.9692307692307692\n",
            "\n",
            "Features: ('Mf', 'agg', 'a_d')\n",
            "Accuracy: 0.9692307692307692\n",
            "\n",
            "Features: ('Mf', 'a_d', 'M_Vd')\n",
            "Accuracy: 0.9692307692307692\n",
            "\n",
            "Features: ('Mf', 'Mf_Mn', 'a_d', 'M_Vd')\n",
            "Accuracy: 0.9692307692307692\n",
            "\n"
          ]
        }
      ]
    },
    {
      "cell_type": "markdown",
      "source": [
        "Use the best features from the exhaustive search in a Random Forest Classifier"
      ],
      "metadata": {
        "id": "R3-JsG0YQVWb"
      }
    },
    {
      "cell_type": "code",
      "source": [
        "# Extract features and target variable\n",
        "X = classification_features_shear[list(top_features_shear)]  # Features\n",
        "y = df_withshear['beam_class']  # Target variable\n",
        "\n",
        "# Split data into training and testing sets\n",
        "X_train, X_test, y_train, y_test = train_test_split(X, y, test_size=0.2, random_state=42)\n",
        "rf = RandomForestClassifier(random_state=42)\n",
        "rf.fit(X_train, y_train)\n",
        "y_pred = rf.predict(X_test)\n",
        "# Calculate the accuracy of the classifier\n",
        "accuracy = accuracy_score(y_test, y_pred)\n",
        "print(\"Accuracy:\", accuracy)\n"
      ],
      "metadata": {
        "colab": {
          "base_uri": "https://localhost:8080/",
          "height": 489
        },
        "id": "_98rwFtVRscZ",
        "outputId": "8d5906cc-0136-49c1-aff3-55f2170edb42"
      },
      "execution_count": null,
      "outputs": [
        {
          "output_type": "stream",
          "name": "stdout",
          "text": [
            "Accuracy: 1.0\n"
          ]
        },
        {
          "output_type": "display_data",
          "data": {
            "text/plain": [
              "<Figure size 640x480 with 2 Axes>"
            ],
            "image/png": "[encoded data removed]"
          },
          "metadata": {}
        }
      ]
    },
    {
      "cell_type": "markdown",
      "source": [
        "Confusion Matrix for Beams with Shear Reinforcement"
      ],
      "metadata": {
        "id": "B46MdrZZSLMY"
      }
    },
    {
      "cell_type": "code",
      "source": [
        "\n",
        "# Create a confusion matrix\n",
        "conf_matrix = confusion_matrix(y_test, y_pred)\n",
        "sns.heatmap(conf_matrix, annot=True, fmt='d', cmap='Blues', xticklabels=rf.classes_, yticklabels=rf.classes_)\n",
        "plt.xlabel('Predicted')\n",
        "plt.ylabel('True')\n",
        "plt.title('Confusion Matrix')\n",
        "plt.show()"
      ],
      "metadata": {
        "id": "COw3giX7R5Kg"
      },
      "execution_count": null,
      "outputs": []
    },
    {
      "cell_type": "markdown",
      "source": [
        "Accuracy Learning Curve for Random Forest"
      ],
      "metadata": {
        "id": "GawAByRVfrI-"
      }
    },
    {
      "cell_type": "code",
      "source": [
        "# Split the data into features (X) and the target variable (y)\n",
        "X = classification_features_shear[list(top_features_shear)]\n",
        "y = df_withshear['beam_class']  # Target variable\n",
        "\n",
        "# Split the dataset into training and testing sets\n",
        "X_train, X_test, y_train, y_test = train_test_split(X, y, test_size=0.2, random_state=42)\n",
        "\n",
        "# Create an Random Forest Classifier\n",
        "rf = RandomForestClassifier(random_state=42)\n",
        "\n",
        "# Generate learning curve data\n",
        "train_sizes, train_scores, validation_scores = learning_curve(\n",
        "    estimator=rf,\n",
        "    X=X_train,\n",
        "    y=y_train,\n",
        "    train_sizes=np.linspace(0.1, 1.0, 20),\n",
        "    cv=10,\n",
        "    scoring='accuracy',\n",
        "    n_jobs=-1,\n",
        "    random_state=42\n",
        ")\n",
        "\n",
        "# Calculate mean and standard deviation of training and validation scores\n",
        "train_scores_mean = np.mean(train_scores, axis=1)\n",
        "train_scores_std = np.std(train_scores, axis=1)\n",
        "validation_scores_mean = np.mean(validation_scores, axis=1)\n",
        "validation_scores_std = np.std(validation_scores, axis=1)\n",
        "\n",
        "# Plot the learning curve\n",
        "plt.figure(figsize=(10, 6))\n",
        "plt.plot(train_sizes, train_scores_mean, 'o-', color='blue', label='Training score')\n",
        "plt.plot(train_sizes, validation_scores_mean, 'o-', color='green', label='Cross-validation score')\n",
        "\n",
        "plt.fill_between(train_sizes, train_scores_mean - train_scores_std,\n",
        "                 train_scores_mean + train_scores_std, alpha=0.1, color='blue')\n",
        "plt.fill_between(train_sizes, validation_scores_mean - validation_scores_std,\n",
        "                 validation_scores_mean + validation_scores_std, alpha=0.1, color='green')\n",
        "\n",
        "plt.title('Learning Curve for Random Forest Classifier')\n",
        "plt.xlabel('Training Set Size')\n",
        "plt.ylabel('Accuracy')\n",
        "plt.legend(loc='best')\n",
        "plt.grid()\n",
        "plt.show()\n",
        "\n",
        "# Train the classifier on the full training data\n",
        "rf.fit(X_train, y_train)\n",
        "\n",
        "# Predict the labels for the test data\n",
        "y_pred = rf.predict(X_test)\n",
        "\n",
        "# Calculate the accuracy of the classifier on the test set\n",
        "accuracy = accuracy_score(y_test, y_pred)\n",
        "print(\"Test Set Accuracy:\", accuracy)\n"
      ],
      "metadata": {
        "colab": {
          "base_uri": "https://localhost:8080/",
          "height": 581
        },
        "id": "xk1Jwbmma90U",
        "outputId": "03cbd9f4-3548-442d-eaae-a54aa4a9f6f3"
      },
      "execution_count": null,
      "outputs": [
        {
          "output_type": "display_data",
          "data": {
            "text/plain": [
              "<Figure size 1000x600 with 1 Axes>"
            ],
            "image/png": "[encoded data removed]"
          },
          "metadata": {}
        },
        {
          "output_type": "stream",
          "name": "stdout",
          "text": [
            "Test Set Accuracy: 1.0\n"
          ]
        }
      ]
    },
    {
      "cell_type": "markdown",
      "source": [
        "Log Loss Learning Curve for Random Forest"
      ],
      "metadata": {
        "id": "GGG1R2dFf8dW"
      }
    },
    {
      "cell_type": "code",
      "source": [
        "# Split the data into features (X) and the target variable (y)\n",
        "X = classification_features_shear[list(top_features_shear)]\n",
        "y = df_withshear['beam_class']  # Target variable\n",
        "\n",
        "# Split the dataset into training and testing sets\n",
        "X_train, X_test, y_train, y_test = train_test_split(X, y, test_size=0.2, random_state=42)\n",
        "\n",
        "# Create an Random Forest Classifier\n",
        "rf = RandomForestClassifier(random_state=42)\n",
        "\n",
        "# Generate learning curve data with log_loss\n",
        "train_sizes, train_scores, validation_scores = learning_curve(\n",
        "    estimator=rf,\n",
        "    X=X_train,\n",
        "    y=y_train,\n",
        "    train_sizes=np.linspace(0.1, 1.0, 20),\n",
        "    cv=10,\n",
        "    scoring=make_scorer(log_loss, greater_is_better=False, needs_proba=True),\n",
        "    n_jobs=-1,\n",
        "    random_state=42\n",
        ")\n",
        "\n",
        "# Calculate mean and standard deviation of training and validation scores\n",
        "train_scores_mean = -np.mean(train_scores, axis=1)\n",
        "train_scores_std = np.std(train_scores, axis=1)\n",
        "validation_scores_mean = -np.mean(validation_scores, axis=1)\n",
        "validation_scores_std = np.std(validation_scores, axis=1)\n",
        "\n",
        "# Plot the learning curve\n",
        "plt.figure(figsize=(10, 6))\n",
        "plt.plot(train_sizes, train_scores_mean, 'o-', color='blue', label='Training loss')\n",
        "plt.plot(train_sizes, validation_scores_mean, 'o-', color='green', label='Cross-validation loss')\n",
        "\n",
        "plt.fill_between(train_sizes, train_scores_mean - train_scores_std,\n",
        "                 train_scores_mean + train_scores_std, alpha=0.1, color='blue')\n",
        "plt.fill_between(train_sizes, validation_scores_mean - validation_scores_std,\n",
        "                 validation_scores_mean + validation_scores_std, alpha=0.1, color='green')\n",
        "\n",
        "plt.title('Learning Curve for Random Forest with Log Loss')\n",
        "plt.xlabel('Training Set Size')\n",
        "plt.ylabel('Log Loss')\n",
        "plt.legend(loc='best')\n",
        "plt.grid()\n",
        "plt.show()"
      ],
      "metadata": {
        "colab": {
          "base_uri": "https://localhost:8080/",
          "height": 564
        },
        "id": "5jHHC7SHbTFJ",
        "outputId": "b6a24cca-4a2e-4f97-d9e3-16eacfa00954"
      },
      "execution_count": null,
      "outputs": [
        {
          "output_type": "display_data",
          "data": {
            "text/plain": [
              "<Figure size 1000x600 with 1 Axes>"
            ],
            "image/png": "[encoded data removed]"
          },
          "metadata": {}
        }
      ]
    },
    {
      "cell_type": "markdown",
      "source": [
        "## Beams without Shear Reinforcement"
      ],
      "metadata": {
        "id": "eXzemn5tA-mv"
      }
    },
    {
      "cell_type": "markdown",
      "source": [
        "Exhaustive Search for Beams without Shear Reinforcement using SVC"
      ],
      "metadata": {
        "id": "PjrkW7d9S2mg"
      }
    },
    {
      "cell_type": "code",
      "source": [
        "# Extract features and target variable\n",
        "X = classification_features_no_shear.values  # Features\n",
        "y = df_withoutshear['beam_class']  # Target variable\n",
        "\n",
        "# Split data into training and testing sets\n",
        "X_train, X_test, y_train, y_test = train_test_split(X, y, test_size=0.2, random_state=42)\n",
        "\n",
        "# List to store results\n",
        "results = []\n",
        "\n",
        "# Iterate through all possible combinations of features\n",
        "for r in range(1, len(classification_features_shear.columns) + 1):\n",
        "    for feature_combo in combinations(classification_features_no_shear.columns, r):\n",
        "        # Extract features based on the current combination\n",
        "        X_train_subset = X_train[:, classification_features_no_shear.columns.isin(feature_combo)]\n",
        "        X_test_subset = X_test[:, classification_features_no_shear.columns.isin(feature_combo)]\n",
        "\n",
        "        # Train SVM classifier\n",
        "        svm = SVC()\n",
        "        svm.fit(X_train_subset, y_train)\n",
        "\n",
        "        # Make predictions\n",
        "        y_pred = svm.predict(X_test_subset)\n",
        "\n",
        "        # Calculate accuracy\n",
        "        accuracy = accuracy_score(y_test, y_pred)\n",
        "\n",
        "        # Store results\n",
        "        results.append((feature_combo, accuracy))\n",
        "\n",
        "# Sort results by accuracy\n",
        "results.sort(key=lambda x: x[1], reverse=True)\n",
        "\n",
        "#Extract combination of inputs that yields highest accuracy\n",
        "top_features_no_shear, top_accuracy_no_shear = results[0]\n",
        "\n",
        "# Print top combinations and their accuracies\n",
        "for i in range(5):  # Print top 5 combinations\n",
        "    print(\"Features:\", results[i][0])\n",
        "    print(\"Accuracy:\", results[i][1])\n",
        "    print()"
      ],
      "metadata": {
        "colab": {
          "base_uri": "https://localhost:8080/"
        },
        "id": "VIrXHbyF_3L6",
        "outputId": "bad7b0ea-11eb-43ca-bf75-4c70339ee397"
      },
      "execution_count": 228,
      "outputs": [
        {
          "output_type": "stream",
          "name": "stdout",
          "text": [
            "Features: ('L', 'a_d')\n",
            "Accuracy: 0.9895833333333334\n",
            "\n",
            "Features: ('Mf', 'L', 'a_d')\n",
            "Accuracy: 0.9895833333333334\n",
            "\n",
            "Features: ('L', 'a_d', 'M_Vd')\n",
            "Accuracy: 0.9895833333333334\n",
            "\n",
            "Features: ('Mn', 'L', 'a_d', 'M_Vd')\n",
            "Accuracy: 0.9895833333333334\n",
            "\n",
            "Features: ('Mf', 'Mf_Mn', 'L', 'a_d')\n",
            "Accuracy: 0.9895833333333334\n",
            "\n"
          ]
        }
      ]
    },
    {
      "cell_type": "markdown",
      "source": [
        "Use the best features from the exhaustive search in a Random Forest Classifier"
      ],
      "metadata": {
        "id": "OvE2xuJyTEzJ"
      }
    },
    {
      "cell_type": "code",
      "source": [
        "# Extract features and target variable\n",
        "X = classification_features_no_shear[list(top_features_no_shear)]  # Features\n",
        "y = df_withoutshear['beam_class']  # Target variable\n",
        "\n",
        "# Split data into training and testing sets\n",
        "X_train, X_test, y_train, y_test = train_test_split(X, y, test_size=0.2, random_state=42)\n",
        "rf = RandomForestClassifier(random_state=42)\n",
        "rf.fit(X_train, y_train)\n",
        "y_pred = rf.predict(X_test)\n",
        "# Calculate the accuracy of the classifier\n",
        "accuracy = accuracy_score(y_test, y_pred)\n",
        "print(\"Accuracy:\", accuracy)\n"
      ],
      "metadata": {
        "colab": {
          "base_uri": "https://localhost:8080/",
          "height": 489
        },
        "id": "9prsHefHBG67",
        "outputId": "bec4743a-0ec1-4e3c-bec3-437da5c93f55"
      },
      "execution_count": null,
      "outputs": [
        {
          "output_type": "stream",
          "name": "stdout",
          "text": [
            "Accuracy: 1.0\n"
          ]
        },
        {
          "output_type": "display_data",
          "data": {
            "text/plain": [
              "<Figure size 640x480 with 2 Axes>"
            ],
            "image/png": "[encoded data removed]"
          },
          "metadata": {}
        }
      ]
    },
    {
      "cell_type": "markdown",
      "source": [
        "\n",
        "Confusion Matrix for Beams without Shear Reinforcement"
      ],
      "metadata": {
        "id": "4GKtc4sLS5zv"
      }
    },
    {
      "cell_type": "code",
      "source": [
        "# Create a confusion matrix\n",
        "conf_matrix = confusion_matrix(y_test, y_pred)\n",
        "sns.heatmap(conf_matrix, annot=True, fmt='d', cmap='Blues', xticklabels=rf.classes_, yticklabels=rf.classes_)\n",
        "plt.xlabel('Predicted')\n",
        "plt.ylabel('True')\n",
        "plt.title('Confusion Matrix')\n",
        "plt.show()"
      ],
      "metadata": {
        "id": "WC__GIoiS731"
      },
      "execution_count": null,
      "outputs": []
    },
    {
      "cell_type": "markdown",
      "source": [
        "Accuracy Learning Curve for Random Forest"
      ],
      "metadata": {
        "id": "zZ3CKtkSggBo"
      }
    },
    {
      "cell_type": "code",
      "source": [
        "# Split the data into features (X) and the target variable (y)\n",
        "X = classification_features_no_shear[list(top_features_no_shear)]\n",
        "y = df_withoutshear['beam_class']  # Target variable\n",
        "\n",
        "# Split the dataset into training and testing sets\n",
        "X_train, X_test, y_train, y_test = train_test_split(X, y, test_size=0.2, random_state=42)\n",
        "\n",
        "# Create an Random Forest Classifier\n",
        "rf = RandomForestClassifier(random_state=42)\n",
        "\n",
        "# Generate learning curve data\n",
        "train_sizes, train_scores, validation_scores = learning_curve(\n",
        "    estimator=rf,\n",
        "    X=X_train,\n",
        "    y=y_train,\n",
        "    train_sizes=np.linspace(0.1, 1.0, 20),\n",
        "    cv=10,\n",
        "    scoring='accuracy',\n",
        "    n_jobs=-1,\n",
        "    random_state=42\n",
        ")\n",
        "\n",
        "# Calculate mean and standard deviation of training and validation scores\n",
        "train_scores_mean = np.mean(train_scores, axis=1)\n",
        "train_scores_std = np.std(train_scores, axis=1)\n",
        "validation_scores_mean = np.mean(validation_scores, axis=1)\n",
        "validation_scores_std = np.std(validation_scores, axis=1)\n",
        "\n",
        "# Plot the learning curve\n",
        "plt.figure(figsize=(10, 6))\n",
        "plt.plot(train_sizes, train_scores_mean, 'o-', color='blue', label='Training score')\n",
        "plt.plot(train_sizes, validation_scores_mean, 'o-', color='green', label='Cross-validation score')\n",
        "\n",
        "plt.fill_between(train_sizes, train_scores_mean - train_scores_std,\n",
        "                 train_scores_mean + train_scores_std, alpha=0.1, color='blue')\n",
        "plt.fill_between(train_sizes, validation_scores_mean - validation_scores_std,\n",
        "                 validation_scores_mean + validation_scores_std, alpha=0.1, color='green')\n",
        "\n",
        "plt.title('Learning Curve for Random Forest Classifier')\n",
        "plt.xlabel('Training Set Size')\n",
        "plt.ylabel('Accuracy')\n",
        "plt.legend(loc='best')\n",
        "plt.grid()\n",
        "plt.show()\n",
        "\n",
        "# Train the classifier on the full training data\n",
        "rf.fit(X_train, y_train)\n",
        "\n",
        "# Predict the labels for the test data\n",
        "y_pred = rf.predict(X_test)\n",
        "\n",
        "# Calculate the accuracy of the classifier on the test set\n",
        "accuracy = accuracy_score(y_test, y_pred)\n",
        "print(\"Test Set Accuracy:\", accuracy)\n"
      ],
      "metadata": {
        "colab": {
          "base_uri": "https://localhost:8080/",
          "height": 581
        },
        "id": "Sqm4zjDCB0Za",
        "outputId": "20ea6c54-2ec1-4e6c-a237-6501a63b88ef"
      },
      "execution_count": null,
      "outputs": [
        {
          "output_type": "display_data",
          "data": {
            "text/plain": [
              "<Figure size 1000x600 with 1 Axes>"
            ],
            "image/png": "[encoded data removed]"
          },
          "metadata": {}
        },
        {
          "output_type": "stream",
          "name": "stdout",
          "text": [
            "Test Set Accuracy: 1.0\n"
          ]
        }
      ]
    },
    {
      "cell_type": "markdown",
      "source": [
        "Log Loss Learning Curve for Random Forest\n",
        "Beams without Shear Reinforcement"
      ],
      "metadata": {
        "id": "dUvBZZ6dg1gn"
      }
    },
    {
      "cell_type": "code",
      "source": [
        "# Split the data into features (X) and the target variable (y)\n",
        "X = classification_features_no_shear[list(top_features_no_shear)]\n",
        "y = df_withoutshear['beam_class']  # Target variable\n",
        "\n",
        "# Split the dataset into training and testing sets\n",
        "X_train, X_test, y_train, y_test = train_test_split(X, y, test_size=0.2, random_state=42)\n",
        "\n",
        "# Create an Random Forest Classifier\n",
        "rf = RandomForestClassifier(random_state=42)\n",
        "\n",
        "# Generate learning curve data with log_loss\n",
        "train_sizes, train_scores, validation_scores = learning_curve(\n",
        "    estimator=rf,\n",
        "    X=X_train,\n",
        "    y=y_train,\n",
        "    train_sizes=np.linspace(0.1, 1.0, 20),\n",
        "    cv=10,\n",
        "    scoring=make_scorer(log_loss, greater_is_better=False, needs_proba=True),\n",
        "    n_jobs=-1,\n",
        "    random_state=42\n",
        ")\n",
        "\n",
        "# Calculate mean and standard deviation of training and validation scores\n",
        "train_scores_mean = -np.mean(train_scores, axis=1)\n",
        "train_scores_std = np.std(train_scores, axis=1)\n",
        "validation_scores_mean = -np.mean(validation_scores, axis=1)\n",
        "validation_scores_std = np.std(validation_scores, axis=1)\n",
        "\n",
        "# Plot the learning curve\n",
        "plt.figure(figsize=(10, 6))\n",
        "plt.plot(train_sizes, train_scores_mean, 'o-', color='blue', label='Training loss')\n",
        "plt.plot(train_sizes, validation_scores_mean, 'o-', color='green', label='Cross-validation loss')\n",
        "\n",
        "plt.fill_between(train_sizes, train_scores_mean - train_scores_std,\n",
        "                 train_scores_mean + train_scores_std, alpha=0.1, color='blue')\n",
        "plt.fill_between(train_sizes, validation_scores_mean - validation_scores_std,\n",
        "                 validation_scores_mean + validation_scores_std, alpha=0.1, color='green')\n",
        "\n",
        "plt.title('Learning Curve for Random Forest with Log Loss')\n",
        "plt.xlabel('Training Set Size')\n",
        "plt.ylabel('Log Loss')\n",
        "plt.legend(loc='best')\n",
        "plt.grid()\n",
        "plt.show()"
      ],
      "metadata": {
        "colab": {
          "base_uri": "https://localhost:8080/",
          "height": 564
        },
        "id": "LXqfGnkKC1iF",
        "outputId": "5d6ae98b-5222-47c4-b9a7-766b7af74db9"
      },
      "execution_count": null,
      "outputs": [
        {
          "output_type": "display_data",
          "data": {
            "text/plain": [
              "<Figure size 1000x600 with 1 Axes>"
            ],
            "image/png": "[encoded data removed]"
          },
          "metadata": {}
        }
      ]
    },
    {
      "cell_type": "markdown",
      "source": [
        "# Pre-Processing & Feature Engineering for Regression\n",
        "\n"
      ],
      "metadata": {
        "id": "cnDdlTPK9SdX"
      }
    },
    {
      "cell_type": "markdown",
      "source": [
        "Create featurre Stress"
      ],
      "metadata": {
        "id": "X8PjjRv9UTgr"
      }
    },
    {
      "cell_type": "code",
      "source": [
        "df_withshear['Stress'] = df_withshear['Vtest'] / df_withshear['bw'] * df_withshear['d']\n",
        "df_withoutshear['Stress'] = df_withoutshear['Vtest'] / df_withoutshear['bw'] * df_withoutshear['d']"
      ],
      "metadata": {
        "colab": {
          "base_uri": "https://localhost:8080/"
        },
        "id": "GMFbUZK3-i94",
        "outputId": "5b28bd93-6328-412d-e4c6-ce28aefbc516",
        "collapsed": true
      },
      "execution_count": 9,
      "outputs": [
        {
          "output_type": "stream",
          "name": "stderr",
          "text": [
            "<ipython-input-9-95c59a2154f2>:1: SettingWithCopyWarning: \n",
            "A value is trying to be set on a copy of a slice from a DataFrame.\n",
            "Try using .loc[row_indexer,col_indexer] = value instead\n",
            "\n",
            "See the caveats in the documentation: https://pandas.pydata.org/pandas-docs/stable/user_guide/indexing.html#returning-a-view-versus-a-copy\n",
            "  df_withshear['Stress'] = df_withshear['Vtest'] / df_withshear['bw'] * df_withshear['d']\n",
            "<ipython-input-9-95c59a2154f2>:2: SettingWithCopyWarning: \n",
            "A value is trying to be set on a copy of a slice from a DataFrame.\n",
            "Try using .loc[row_indexer,col_indexer] = value instead\n",
            "\n",
            "See the caveats in the documentation: https://pandas.pydata.org/pandas-docs/stable/user_guide/indexing.html#returning-a-view-versus-a-copy\n",
            "  df_withoutshear['Stress'] = df_withoutshear['Vtest'] / df_withoutshear['bw'] * df_withoutshear['d']\n"
          ]
        }
      ]
    },
    {
      "cell_type": "markdown",
      "source": [
        "Select all numerical features for regression models, and beam class to identify subset for regression"
      ],
      "metadata": {
        "id": "8ctUZNJXUWlh"
      }
    },
    {
      "cell_type": "code",
      "source": [
        "df_withshear = df_withshear[[\"h\", \"dp\", \"ds\", \"d\", \"bw\", \"btop\", \"bbot\", \"ttop\", \"tbot\", \"bslab\", \"tslab\", \"yb\", \"egc\", \"Ag\", \"Ig\", \"Ic\",\"L\", \"aa\", \"ba\", \"a_d\", \"M_Vd\",\"fpc\", \"fcttest\", \"agg\",\"As\", \"fy\", \"rhol\",\"Av\", \"fvy\", \"sv\", \"rhov\", \"rhovfvy\", \"L\", \"aa\", \"ba\", 'beam_class', 'Stress', 'Vtest']]\n",
        "df_withoutshear = df_withoutshear[[\"h\", \"dp\", \"ds\", \"d\", \"bw\", \"btop\", \"bbot\", \"ttop\", \"tbot\", \"bslab\", \"tslab\", \"yb\", \"egc\", \"Ag\", \"Ig\", \"Ic\",\"L\", \"aa\", \"ba\", \"a_d\", \"M_Vd\",\"fpc\", \"fcttest\", \"agg\",\"As\", \"fy\", \"rhol\",\"L\", \"aa\", \"ba\", \"beam_class\", 'Stress', 'Vtest']]"
      ],
      "metadata": {
        "id": "p73neG-xAauf"
      },
      "execution_count": 10,
      "outputs": []
    },
    {
      "cell_type": "markdown",
      "source": [
        "Separate beams by beam class"
      ],
      "metadata": {
        "id": "l5tHgwhmUi9o"
      }
    },
    {
      "cell_type": "code",
      "source": [
        "short_shear = df_withshear[df_withshear['beam_class'] == 'short']\n",
        "very_short_shear = df_withshear[df_withshear['beam_class'] == 'very short']\n",
        "slender_shear = df_withshear[df_withshear['beam_class'] == 'slender']\n",
        "\n",
        "short_no_shear = df_withoutshear[df_withoutshear['beam_class'] == 'short']\n",
        "very_short_no_shear = df_withoutshear[df_withoutshear['beam_class'] == 'very short']\n",
        "slender_no_shear = df_withoutshear[df_withoutshear['beam_class'] == 'slender']\n",
        "very_slender_no_shear = df_withoutshear[df_withoutshear['beam_class'] == 'very slender']"
      ],
      "metadata": {
        "id": "u9KDRnjEAMoz"
      },
      "execution_count": 11,
      "outputs": []
    },
    {
      "cell_type": "markdown",
      "source": [
        "Calculate the loading at failure per ACI standard"
      ],
      "metadata": {
        "id": "GElf9UWNUmm7"
      }
    },
    {
      "cell_type": "code",
      "source": [
        "def calculate_vaci_from_df(df):\n",
        "\n",
        "    fpc = df['fpc']\n",
        "    bw = df['bw']\n",
        "    d = df['d']\n",
        "    Vaci_values = 2 * np.sqrt(fpc) * (bw * d)\n",
        "    return Vaci_values"
      ],
      "metadata": {
        "id": "qi5oO4LoTtOt"
      },
      "execution_count": null,
      "outputs": []
    },
    {
      "cell_type": "code",
      "source": [
        "short_shear_comp = pd.DataFrame({ 'V_ACI_Prediction': calculate_vaci_from_df(short_shear)})\n",
        "very_short_shear_comp = pd.DataFrame({ 'V_ACI_Prediction': calculate_vaci_from_df(very_short_shear)})\n",
        "slender_shear_comp = pd.DataFrame({ 'V_ACI_Prediction': calculate_vaci_from_df(slender_shear)})\n",
        "\n",
        "short_no_shear_comp = pd.DataFrame({ 'V_ACI_Prediction': calculate_vaci_from_df(short_no_shear)})\n",
        "very_short_no_shear_comp = pd.DataFrame({ 'V_ACI_Prediction': calculate_vaci_from_df(very_short_no_shear)})\n",
        "slender_no_shear_comp = pd.DataFrame({ 'V_ACI_Prediction': calculate_vaci_from_df(slender_no_shear)})\n",
        "very_slender_no_shear_comp = pd.DataFrame({ 'V_ACI_Prediction': calculate_vaci_from_df(very_slender_no_shear)})"
      ],
      "metadata": {
        "id": "CcWAwdRkdWWz"
      },
      "execution_count": 12,
      "outputs": []
    },
    {
      "cell_type": "code",
      "source": [
        "short_shear_comp['Vtest'] = short_shear['Vtest']\n",
        "very_short_shear_comp['Vtest'] = very_short_shear['Vtest']\n",
        "slender_shear_comp['Vtest'] = slender_shear['Vtest']\n",
        "\n",
        "short_no_shear_comp['Vtest'] = short_no_shear['Vtest']\n",
        "very_short_no_shear_comp['Vtest'] = very_short_no_shear['Vtest']\n",
        "slender_no_shear_comp['Vtest'] = slender_no_shear['Vtest']\n",
        "very_slender_no_shear_comp['Vtest'] = very_slender_no_shear['Vtest']"
      ],
      "metadata": {
        "id": "kkZkM2UEd7j_"
      },
      "execution_count": 13,
      "outputs": []
    },
    {
      "cell_type": "markdown",
      "source": [
        "Drop beam class to ensure all features are numeric within subset"
      ],
      "metadata": {
        "id": "4fYB7SjLU1Jv"
      }
    },
    {
      "cell_type": "code",
      "source": [
        "short_shear = short_shear.drop(columns=['beam_class'])\n",
        "very_short_shear = very_short_shear.drop(columns=['beam_class'])\n",
        "slender_shear = slender_shear.drop(columns=['beam_class'])\n",
        "\n",
        "short_no_shear = short_no_shear.drop(columns=['beam_class'])\n",
        "very_short_no_shear = very_short_no_shear.drop(columns=['beam_class'])\n",
        "slender_no_shear = slender_no_shear.drop(columns=['beam_class'])\n",
        "very_slender_no_shear = very_slender_no_shear.drop(columns=['beam_class'])\n",
        "\n",
        "short_shear = short_shear.drop(columns=['Vtest'])\n",
        "very_short_shear = very_short_shear.drop(columns=['Vtest'])\n",
        "slender_shear = slender_shear.drop(columns=['Vtest'])\n",
        "\n",
        "short_no_shear = short_no_shear.drop(columns=['Vtest'])\n",
        "very_short_no_shear = very_short_no_shear.drop(columns=['Vtest'])\n",
        "slender_no_shear = slender_no_shear.drop(columns=['Vtest'])\n",
        "very_slender_no_shear = very_slender_no_shear.drop(columns=['Vtest'])"
      ],
      "metadata": {
        "id": "GVdVWZc5Bew2"
      },
      "execution_count": 15,
      "outputs": []
    },
    {
      "cell_type": "markdown",
      "source": [
        "Standardize features"
      ],
      "metadata": {
        "id": "ePwT-w2uU5uO"
      }
    },
    {
      "cell_type": "code",
      "source": [
        "short_shear_sd = standardize_features(short_shear)\n",
        "very_short_shear_sd = standardize_features(very_short_shear)\n",
        "slender_shear_sd = standardize_features(slender_shear)\n",
        "\n",
        "short_no_shear_sd = standardize_features(short_no_shear)\n",
        "very_short_no_shear_sd = standardize_features(very_short_no_shear)\n",
        "slender_no_shear_sd = standardize_features(slender_no_shear)\n",
        "very_slender_no_shear_sd = standardize_features(very_slender_no_shear)"
      ],
      "metadata": {
        "id": "P3Da-7DbBg9C"
      },
      "execution_count": 16,
      "outputs": []
    },
    {
      "cell_type": "markdown",
      "source": [
        "# Regression Models Training"
      ],
      "metadata": {
        "id": "t6EkNuj0VYfQ"
      }
    },
    {
      "cell_type": "markdown",
      "source": [
        "## Regression Models for Beams with Shear Reinforcement"
      ],
      "metadata": {
        "id": "l8_MkyWxVXuE"
      }
    },
    {
      "cell_type": "markdown",
      "source": [
        "### Regression for Very Short Beams with Shear Reinforcement:\n",
        "\n",
        "Use PCA dimensionalality reduction technique on entire subset\n"
      ],
      "metadata": {
        "id": "jFE6s8bNB27b"
      }
    },
    {
      "cell_type": "code",
      "source": [
        "# Assuming very_short_shear is your DataFrame\n",
        "X = very_short_shear_sd.drop('Stress', axis=1)  # Features\n",
        "y = very_short_shear_sd['Stress']  # Target variable (if needed for later analysis)\n",
        "\n",
        "pca = PCA(n_components=.99)  # Choose the number of principal components\n",
        "X_pca = pca.fit_transform(X)\n",
        "\n",
        "kmeans = KMeans(n_clusters=2, random_state=42)  # Adjust number of clusters as needed\n",
        "kmeans.fit(X_pca)\n",
        "y_kmeans = kmeans.predict(X_pca)\n",
        "\n",
        "cluster_labels = np.unique(y_kmeans)\n",
        "for label in cluster_labels:\n",
        "    print(f'Cluster {label}: {np.sum(y_kmeans == label)} points')\n",
        "\n",
        "plt.figure(figsize=(8, 6))\n",
        "\n",
        "# Scatter plot of PCA components with color indicating the cluster\n",
        "plt.scatter(X_pca[:, 0], X_pca[:, 1], c=y_kmeans, cmap='viridis', s=50, alpha=0.8)\n",
        "plt.colorbar(label='Cluster')\n",
        "plt.xlabel('PCA1')\n",
        "plt.ylabel('PCA2')\n",
        "plt.title('K-means Clustering with PCA')\n",
        "\n",
        "plt.show()\n"
      ],
      "metadata": {
        "colab": {
          "base_uri": "https://localhost:8080/",
          "height": 211
        },
        "id": "35DsbthiB9Li",
        "outputId": "f9711342-ce30-4555-b2a6-8b45d7fcfa3d",
        "collapsed": true
      },
      "execution_count": 1,
      "outputs": [
        {
          "output_type": "error",
          "ename": "NameError",
          "evalue": "name 'very_short_shear_sd' is not defined",
          "traceback": [
            "\u001b[0;31m---------------------------------------------------------------------------\u001b[0m",
            "\u001b[0;31mNameError\u001b[0m                                 Traceback (most recent call last)",
            "\u001b[0;32m<ipython-input-1-50aa1d8b6341>\u001b[0m in \u001b[0;36m<cell line: 2>\u001b[0;34m()\u001b[0m\n\u001b[1;32m      1\u001b[0m \u001b[0;31m# Assuming very_short_shear is your DataFrame\u001b[0m\u001b[0;34m\u001b[0m\u001b[0;34m\u001b[0m\u001b[0m\n\u001b[0;32m----> 2\u001b[0;31m \u001b[0mX\u001b[0m \u001b[0;34m=\u001b[0m \u001b[0mvery_short_shear_sd\u001b[0m\u001b[0;34m.\u001b[0m\u001b[0mdrop\u001b[0m\u001b[0;34m(\u001b[0m\u001b[0;34m'Stress'\u001b[0m\u001b[0;34m,\u001b[0m \u001b[0maxis\u001b[0m\u001b[0;34m=\u001b[0m\u001b[0;36m1\u001b[0m\u001b[0;34m)\u001b[0m  \u001b[0;31m# Features\u001b[0m\u001b[0;34m\u001b[0m\u001b[0;34m\u001b[0m\u001b[0m\n\u001b[0m\u001b[1;32m      3\u001b[0m \u001b[0my\u001b[0m \u001b[0;34m=\u001b[0m \u001b[0mvery_short_shear_sd\u001b[0m\u001b[0;34m[\u001b[0m\u001b[0;34m'Stress'\u001b[0m\u001b[0;34m]\u001b[0m  \u001b[0;31m# Target variable (if needed for later analysis)\u001b[0m\u001b[0;34m\u001b[0m\u001b[0;34m\u001b[0m\u001b[0m\n\u001b[1;32m      4\u001b[0m \u001b[0;34m\u001b[0m\u001b[0m\n\u001b[1;32m      5\u001b[0m \u001b[0mpca\u001b[0m \u001b[0;34m=\u001b[0m \u001b[0mPCA\u001b[0m\u001b[0;34m(\u001b[0m\u001b[0mn_components\u001b[0m\u001b[0;34m=\u001b[0m\u001b[0;36m.99\u001b[0m\u001b[0;34m)\u001b[0m  \u001b[0;31m# Choose the number of principal components\u001b[0m\u001b[0;34m\u001b[0m\u001b[0;34m\u001b[0m\u001b[0m\n",
            "\u001b[0;31mNameError\u001b[0m: name 'very_short_shear_sd' is not defined"
          ]
        }
      ]
    },
    {
      "cell_type": "markdown",
      "source": [
        "Perform K-Means Clustering on PCA Transformed Data with 2 clusters\n",
        "\n",
        "Support Vector Regression on the original data, but only for beams in larger cluster"
      ],
      "metadata": {
        "id": "EEXOjt7PWJ2_"
      }
    },
    {
      "cell_type": "code",
      "source": [
        "from sklearn.linear_model import LinearRegression\n",
        "from sklearn.metrics import mean_squared_error, r2_score\n",
        "\n",
        "# Extracting the data points belonging to cluster\n",
        "cluster_0_indices = np.where(y_kmeans == 1)[0]\n",
        "very_short_shear_cluster_1_X = X.iloc[cluster_0_indices]\n",
        "very_short_shear_cluster_1_y = y.iloc[cluster_0_indices]\n",
        "\n",
        "X_train, X_test, y_train, y_test = train_test_split(very_short_shear_cluster_1_X, very_short_shear_cluster_1_y, test_size=0.2, random_state=42)\n",
        "\n",
        "# Perform Linear Regression\n",
        "svr = SVR(kernel = 'sigmoid', coef0=0.18)\n",
        "\n",
        "svr.fit(X_train, y_train)\n",
        "\n",
        "# Making predictions on the test set\n",
        "y_pred = svr.predict(X_test)\n",
        "\n",
        "# Evaluating the model\n",
        "mse = mean_squared_error(y_test, y_pred)\n",
        "r2 = r2_score(y_test, y_pred)\n",
        "\n",
        "print(f'Mean Squared Error: {mse}')\n",
        "print(f'R^2 Score: {r2}')"
      ],
      "metadata": {
        "colab": {
          "base_uri": "https://localhost:8080/",
          "height": 211
        },
        "id": "h_Aoqg7HCapb",
        "outputId": "946fadec-b7ab-4478-8949-f190f225c19d"
      },
      "execution_count": 2,
      "outputs": [
        {
          "output_type": "error",
          "ename": "NameError",
          "evalue": "name 'np' is not defined",
          "traceback": [
            "\u001b[0;31m---------------------------------------------------------------------------\u001b[0m",
            "\u001b[0;31mNameError\u001b[0m                                 Traceback (most recent call last)",
            "\u001b[0;32m<ipython-input-2-ca28a14f1d60>\u001b[0m in \u001b[0;36m<cell line: 5>\u001b[0;34m()\u001b[0m\n\u001b[1;32m      3\u001b[0m \u001b[0;34m\u001b[0m\u001b[0m\n\u001b[1;32m      4\u001b[0m \u001b[0;31m# Extracting the data points belonging to cluster 0\u001b[0m\u001b[0;34m\u001b[0m\u001b[0;34m\u001b[0m\u001b[0m\n\u001b[0;32m----> 5\u001b[0;31m \u001b[0mcluster_0_indices\u001b[0m \u001b[0;34m=\u001b[0m \u001b[0mnp\u001b[0m\u001b[0;34m.\u001b[0m\u001b[0mwhere\u001b[0m\u001b[0;34m(\u001b[0m\u001b[0my_kmeans\u001b[0m \u001b[0;34m==\u001b[0m \u001b[0;36m1\u001b[0m\u001b[0;34m)\u001b[0m\u001b[0;34m[\u001b[0m\u001b[0;36m0\u001b[0m\u001b[0;34m]\u001b[0m\u001b[0;34m\u001b[0m\u001b[0;34m\u001b[0m\u001b[0m\n\u001b[0m\u001b[1;32m      6\u001b[0m \u001b[0mvery_short_shear_cluster_1_X\u001b[0m \u001b[0;34m=\u001b[0m \u001b[0mX\u001b[0m\u001b[0;34m.\u001b[0m\u001b[0miloc\u001b[0m\u001b[0;34m[\u001b[0m\u001b[0mcluster_0_indices\u001b[0m\u001b[0;34m]\u001b[0m\u001b[0;34m\u001b[0m\u001b[0;34m\u001b[0m\u001b[0m\n\u001b[1;32m      7\u001b[0m \u001b[0mvery_short_shear_cluster_1_y\u001b[0m \u001b[0;34m=\u001b[0m \u001b[0my\u001b[0m\u001b[0;34m.\u001b[0m\u001b[0miloc\u001b[0m\u001b[0;34m[\u001b[0m\u001b[0mcluster_0_indices\u001b[0m\u001b[0;34m]\u001b[0m\u001b[0;34m\u001b[0m\u001b[0;34m\u001b[0m\u001b[0m\n",
            "\u001b[0;31mNameError\u001b[0m: name 'np' is not defined"
          ]
        }
      ]
    },
    {
      "cell_type": "markdown",
      "source": [
        "Append predictions for entire subset to comparison dataframe"
      ],
      "metadata": {
        "id": "glZpFirMWMd8"
      }
    },
    {
      "cell_type": "code",
      "source": [
        "y_pred_all = svr.predict(very_short_shear.iloc[cluster_0_indices].drop('Stress', axis=1))\n",
        "Predicted_V = y_pred_all * very_short_shear.iloc[cluster_0_indices]['bw'] * very_short_shear.iloc[cluster_0_indices]['d']\n",
        "# Ensure `very_slender_no_shear_comp` has the same index as `very_slender_no_shear`\n",
        "very_short_shear_comp['V_ML'] = Predicted_V\n",
        "\n",
        "# Drop rows where NaN appears in 'V_ML' column\n",
        "very_short_shear_comp = very_short_shear_comp.dropna(subset=['V_ML'])\n",
        "\n",
        "# Print the cleaned DataFrame\n",
        "print(very_short_shear_comp)"
      ],
      "metadata": {
        "id": "KlWu7AqNv54N"
      },
      "execution_count": null,
      "outputs": []
    },
    {
      "cell_type": "markdown",
      "source": [
        "Drop the rows for clusters not included in final regression"
      ],
      "metadata": {
        "id": "0Y62lL2lWgGV"
      }
    },
    {
      "cell_type": "code",
      "source": [
        "# Drop rows where NaN appears in 'V_ML' column\n",
        "very_short_shear_comp_cleaned = very_short_shear_comp.dropna(subset=['V_ML'])\n",
        "\n",
        "# Print the cleaned DataFrame\n",
        "print(very_short_shear_comp_cleaned)"
      ],
      "metadata": {
        "id": "A8eW4rXyzK2u"
      },
      "execution_count": null,
      "outputs": []
    },
    {
      "cell_type": "markdown",
      "source": [
        "### Regression for Short Beams with Shear Reinforcement:\n",
        "\n",
        "Graident Boosting Regressor"
      ],
      "metadata": {
        "id": "4EzfBEbqEG8_"
      }
    },
    {
      "cell_type": "code",
      "source": [
        "import pandas as pd\n",
        "from sklearn.model_selection import train_test_split\n",
        "from sklearn.ensemble import GradientBoostingRegressor\n",
        "from sklearn.metrics import mean_squared_error, r2_score\n",
        "\n",
        "# Assuming short_no_shear is your DataFrame containing the data\n",
        "X = short_shear_sd.drop('Stress', axis=1)\n",
        "y = short_shear_sd['Stress']\n",
        "\n",
        "# Split the data into training and testing sets\n",
        "X_train, X_test, y_train, y_test = train_test_split(X, y, test_size=0.2, random_state=42)\n",
        "\n",
        "# Define Gradient Boosting Regressor with initial parameters\n",
        "gbm = GradientBoostingRegressor(random_state=42)\n",
        "\n",
        "# Fit the model on the training data\n",
        "gbm.fit(X_train, y_train)\n",
        "\n",
        "# Predict on the test set\n",
        "y_pred = gbm.predict(X_test)\n",
        "\n",
        "# Calculate metrics\n",
        "mse = mean_squared_error(y_test, y_pred)\n",
        "r2 = r2_score(y_test, y_pred)\n",
        "\n",
        "print(\"\\nMetrics on Test Set:\")\n",
        "print(f\"Mean Squared Error: {mse}\")\n",
        "print(f\"R^2 Score: {r2}\")"
      ],
      "metadata": {
        "id": "SPiRup3aEOgg"
      },
      "execution_count": null,
      "outputs": []
    },
    {
      "cell_type": "markdown",
      "source": [
        "Append predictions for entire subset to comparison dataframe"
      ],
      "metadata": {
        "id": "Mg_2XtP_WpNK"
      }
    },
    {
      "cell_type": "code",
      "source": [
        "y_pred_all = gbm.predict(short_shear.drop('Stress', axis=1))\n",
        "Predicted_V = y_pred_all * short_shear['bw'] * short_shear['d']\n",
        "# Ensure `very_slender_no_shear_comp` has the same index as `very_slender_no_shear`\n",
        "short_shear_comp['V_ML'] = Predicted_V\n",
        "# Print the DataFrame with the new column\n",
        "print(short_shear_comp)"
      ],
      "metadata": {
        "id": "GVhv-SwTvQQR"
      },
      "execution_count": null,
      "outputs": []
    },
    {
      "cell_type": "markdown",
      "source": [
        "### Regression for Slender Beams with Shear Reinforcement:\n",
        "\n",
        "Use Recursive Feature Elimination to determine features used with Linear Regression"
      ],
      "metadata": {
        "id": "h2YF5ne5EwHD"
      }
    },
    {
      "cell_type": "code",
      "source": [
        "import pandas as pd\n",
        "from sklearn.model_selection import train_test_split\n",
        "from sklearn.linear_model import LinearRegression\n",
        "from sklearn.feature_selection import RFE\n",
        "from sklearn.metrics import mean_squared_error, r2_score\n",
        "\n",
        "X = slender_shear_sd.drop('Stress', axis=1)\n",
        "y = slender_shear_sd['Stress']\n",
        "\n",
        "# Split the data into training and testing sets\n",
        "X_train, X_test, y_train, y_test = train_test_split(X, y, test_size=0.2, random_state=42)\n",
        "\n",
        "# Initialize Linear Regression model\n",
        "lr = LinearRegression()\n",
        "\n",
        "# Initialize RFE with 5 features to select (adjust as needed)\n",
        "rfe = RFE(lr, n_features_to_select=13)\n",
        "\n",
        "# Fit RFE\n",
        "rfe.fit(X_train, y_train)\n",
        "\n",
        "# Get selected feature indices\n",
        "selected_features_idx = rfe.get_support(indices=True)\n",
        "\n",
        "# Get the feature names of the selected features\n",
        "selected_feature_names = X.columns[selected_features_idx].tolist()\n",
        "\n",
        "# Print selected feature column names\n",
        "print(\"Selected feature columns:\")\n",
        "print(selected_feature_names)\n",
        "\n",
        "# Filter X_train and X_test to include only selected features\n",
        "X_train_selected = X_train.iloc[:, selected_features_idx]\n",
        "X_test_selected = X_test.iloc[:, selected_features_idx]\n",
        "\n",
        "# Fit linear regression model on selected features\n",
        "lr.fit(X_train_selected, y_train)\n",
        "y_pred = lr.predict(X_test_selected)\n",
        "\n",
        "# Calculate metrics for the model with selected features\n",
        "mse = mean_squared_error(y_test, y_pred)\n",
        "r2 = r2_score(y_test, y_pred)\n",
        "\n",
        "print(\"Mean Squared Error (MSE):\", mse)\n",
        "print(\"R-squared:\", r2)"
      ],
      "metadata": {
        "id": "pOeXSLGAEv2y"
      },
      "execution_count": null,
      "outputs": []
    },
    {
      "cell_type": "markdown",
      "source": [
        "Append predictions for entire subset to comparison dataframe"
      ],
      "metadata": {
        "id": "eBJU5dKbWxTc"
      }
    },
    {
      "cell_type": "code",
      "source": [
        "y_pred_all = lr.predict(slender_shear[['h', 'bw', 'btop', 'bbot', 'ttop', 'tbot', 'yb', 'a_d', 'M_Vd', 'As', 'Av', 'rhov', 'rhovfvy']])\n",
        "Predicted_V = y_pred_all * slender_shear['bw'] * slender_shear['d']\n",
        "# Ensure `very_slender_no_shear_comp` has the same index as `very_slender_no_shear`\n",
        "slender_shear_comp['V_ML'] = Predicted_V\n",
        "# Print the DataFrame with the new column\n",
        "print(slender_shear_comp)"
      ],
      "metadata": {
        "id": "egbCVOoXt1zS"
      },
      "execution_count": null,
      "outputs": []
    },
    {
      "cell_type": "markdown",
      "source": [
        "## Regression Models for Beams without Shear Reinforcement"
      ],
      "metadata": {
        "id": "EMrG2s1dVMlQ"
      }
    },
    {
      "cell_type": "markdown",
      "source": [
        "### Regression for Very Short Beams without Shear Reinforcement:\n",
        "\n"
      ],
      "metadata": {
        "id": "VT6_Y6EzFLDn"
      }
    },
    {
      "cell_type": "markdown",
      "source": [
        "Determine Feature importance using Regressors:\n",
        "*   Decision Trees\n",
        "*   Random Forest\n",
        "*   Gradient Boosting\n",
        "\n",
        "Aggregate the feature importance values and select the top 10 most important features\n",
        "\n",
        "Train a Support Vector Regressor on those features"
      ],
      "metadata": {
        "id": "SnLc7yv3YFd0"
      }
    },
    {
      "cell_type": "code",
      "source": [
        "import pandas as pd\n",
        "from sklearn.model_selection import train_test_split\n",
        "from sklearn.preprocessing import StandardScaler\n",
        "from sklearn.tree import DecisionTreeRegressor\n",
        "from sklearn.ensemble import RandomForestRegressor, GradientBoostingRegressor\n",
        "from sklearn.svm import SVR\n",
        "from sklearn.metrics import mean_squared_error, r2_score\n",
        "\n",
        "X = very_short_no_shear_sd.drop('Stress', axis=1)\n",
        "y = very_short_no_shear_sd['Stress']\n",
        "\n",
        "# Split the data into training and testing sets\n",
        "X_train, X_test, y_train, y_test = train_test_split(X, y, test_size=0.2, random_state=42)\n",
        "\n",
        "# Feature importance using Decision Tree\n",
        "dt = DecisionTreeRegressor(random_state=42)\n",
        "dt.fit(X_train, y_train)\n",
        "dt_importances = dt.feature_importances_\n",
        "\n",
        "# Feature importance using Random Forest\n",
        "rf = RandomForestRegressor(random_state=42)\n",
        "rf.fit(X_train, y_train)\n",
        "rf_importances = rf.feature_importances_\n",
        "\n",
        "# Feature importance using Gradient Boosting\n",
        "gb = GradientBoostingRegressor(random_state=42)\n",
        "gb.fit(X_train, y_train)\n",
        "gb_importances = gb.feature_importances_\n",
        "\n",
        "# Aggregate feature importances\n",
        "feature_importances = (dt_importances + rf_importances + gb_importances) / 3\n",
        "\n",
        "# Create a DataFrame to hold feature names and their importances\n",
        "features_df = pd.DataFrame({'feature': X.columns, 'importance': feature_importances})\n",
        "\n",
        "# Sort features by importance\n",
        "features_df = features_df.sort_values(by='importance', ascending=False)\n",
        "\n",
        "# Select top N features (e.g., top 10)\n",
        "top_features = features_df.head(10)['feature'].tolist()\n",
        "X_train_selected = X_train[top_features]\n",
        "X_test_selected = X_test[top_features]\n",
        "\n",
        "# Support Vector Regression\n",
        "svr = SVR()\n",
        "svr.fit(X_train_selected, y_train)\n",
        "y_pred = svr.predict(X_test_selected)\n",
        "\n",
        "# Evaluate the SVR model\n",
        "mse = mean_squared_error(y_test, y_pred)\n",
        "r2 = r2_score(y_test, y_pred)\n",
        "\n",
        "print(f'Mean Squared Error: {mse}')\n",
        "print(f'R-squared: {r2}')\n",
        "\n",
        "# Output the selected features\n",
        "print(\"Top features selected for SVR:\")\n",
        "print(top_features)\n"
      ],
      "metadata": {
        "id": "6uMXKFYIGz4J"
      },
      "execution_count": null,
      "outputs": []
    },
    {
      "cell_type": "markdown",
      "source": [
        "Append predictions for entire subset to comparison dataframe"
      ],
      "metadata": {
        "id": "Wge80HyVXV9P"
      }
    },
    {
      "cell_type": "code",
      "source": [
        "y_pred_all = svr.predict(very_short_no_shear[['d', 'M_Vd', 'a_d', 'ds', 'yb', 'h', 'agg', 'fy', 'rhol', 'As']])\n",
        "Predicted_V = y_pred_all * very_short_no_shear['bw'] * very_short_no_shear['d']\n",
        "very_short_no_shear_comp['V_ML'] = Predicted_V\n",
        "# Print the DataFrame with the new column\n",
        "print(very_short_no_shear_comp)"
      ],
      "metadata": {
        "id": "5fTim_y0sj8O"
      },
      "execution_count": null,
      "outputs": []
    },
    {
      "cell_type": "markdown",
      "source": [
        "### Regression for Short Beams with No Shear Reinforcement:"
      ],
      "metadata": {
        "id": "ezRu_47oG59Q"
      }
    },
    {
      "cell_type": "markdown",
      "source": [
        "\n",
        "Use Graident Boosting Regressor"
      ],
      "metadata": {
        "id": "onDzJxN4YJYy"
      }
    },
    {
      "cell_type": "code",
      "source": [
        "import pandas as pd\n",
        "from sklearn.model_selection import train_test_split\n",
        "from sklearn.ensemble import GradientBoostingRegressor\n",
        "from sklearn.metrics import mean_squared_error, r2_score\n",
        "\n",
        "# Assuming short_no_shear is your DataFrame containing the data\n",
        "X = short_no_shear_sd.drop('Stress', axis=1)\n",
        "y = short_no_shear_sd['Stress']\n",
        "\n",
        "# Split the data into training and testing sets\n",
        "X_train, X_test, y_train, y_test = train_test_split(X, y, test_size=0.2, random_state=42)\n",
        "\n",
        "# Define Gradient Boosting Regressor with initial parameters\n",
        "gbm = GradientBoostingRegressor(random_state=42)\n",
        "\n",
        "# Fit the model on the training data\n",
        "gbm.fit(X_train, y_train)\n",
        "\n",
        "# Predict on the test set\n",
        "y_pred = gbm.predict(X_test)\n",
        "\n",
        "# Calculate metrics\n",
        "mse = mean_squared_error(y_test, y_pred)\n",
        "r2 = r2_score(y_test, y_pred)\n",
        "\n",
        "print(\"\\nMetrics on Test Set:\")\n",
        "print(f\"Mean Squared Error: {mse}\")\n",
        "print(f\"R^2 Score: {r2}\")"
      ],
      "metadata": {
        "colab": {
          "base_uri": "https://localhost:8080/"
        },
        "id": "H4pL_DwVHBKH",
        "outputId": "b0078f44-7c14-4eee-ae40-e00041906902"
      },
      "execution_count": 27,
      "outputs": [
        {
          "output_type": "stream",
          "name": "stdout",
          "text": [
            "\n",
            "Metrics on Test Set:\n",
            "Mean Squared Error: 0.060384175790817674\n",
            "R^2 Score: 0.9479168065384407\n"
          ]
        }
      ]
    },
    {
      "cell_type": "markdown",
      "source": [
        "Append predictions for entire subset to comparison dataframe"
      ],
      "metadata": {
        "id": "kcNiraOBXcdA"
      }
    },
    {
      "cell_type": "code",
      "source": [
        "y_pred_all = gbm.predict(short_no_shear.drop('Stress', axis=1))\n",
        "Predicted_V = y_pred_all * short_no_shear['bw'] * short_no_shear['d']\n",
        "# Ensure `very_slender_no_shear_comp` has the same index as `very_slender_no_shear`\n",
        "short_no_shear_comp['V_ML'] = Predicted_V\n",
        "# Print the DataFrame with the new column\n",
        "print(short_no_shear_comp)"
      ],
      "metadata": {
        "colab": {
          "base_uri": "https://localhost:8080/"
        },
        "id": "XngfTzfPr5_p",
        "outputId": "5eb714b6-b902-4770-f8cf-727ba46c92b6"
      },
      "execution_count": 28,
      "outputs": [
        {
          "output_type": "stream",
          "name": "stdout",
          "text": [
            "      V_ACI_Prediction  Vtest        V_ML\n",
            "0         10473.927630  25.40  261.248417\n",
            "1          7643.538448  18.50  252.963009\n",
            "2          9216.105468  21.61  252.963009\n",
            "3          7249.107531   9.90  252.963009\n",
            "4          8058.091585  11.00  252.963009\n",
            "...                ...    ...         ...\n",
            "1233       9423.624830  22.58  438.910265\n",
            "1234      10294.936886  18.35  323.774269\n",
            "1235      10294.936886  19.56  323.774269\n",
            "1257      15350.632237  18.10  465.180370\n",
            "1258      15350.632237  18.10  465.180370\n",
            "\n",
            "[256 rows x 3 columns]\n"
          ]
        }
      ]
    },
    {
      "cell_type": "markdown",
      "source": [
        "### Regression for Slender Beams with No Shear Reinforcement:"
      ],
      "metadata": {
        "id": "heyzV_GsHAhS"
      }
    },
    {
      "cell_type": "markdown",
      "source": [
        "\n",
        "Use Linear Regression"
      ],
      "metadata": {
        "id": "IKnU1kOkYM8J"
      }
    },
    {
      "cell_type": "code",
      "source": [
        "X = slender_no_shear_sd.drop('Stress', axis=1)\n",
        "y = slender_no_shear_sd['Stress']\n",
        "\n",
        "# Split the data into training and testing sets\n",
        "X_train, X_test, y_train, y_test = train_test_split(X, y, test_size= 0.2, random_state=42)\n",
        "\n",
        "# Initialize Linear Regression model\n",
        "lr = LinearRegression()\n",
        "\n",
        "# Fit linear regression model on selected features\n",
        "lr.fit(X_train, y_train)\n",
        "y_pred = lr.predict(X_test)\n",
        "\n",
        "    # Calculate metrics for the model with selected features\n",
        "mse = mean_squared_error(y_test, y_pred)\n",
        "r2 = r2_score(y_test, y_pred)\n",
        "print(\"Mean Squared Error (MSE):\", mse)\n",
        "print(\"R-squared:\", r2)"
      ],
      "metadata": {
        "colab": {
          "base_uri": "https://localhost:8080/"
        },
        "id": "Yrn6t8kX_99c",
        "outputId": "f56774f4-3091-4614-f105-3ea54a65cd3c"
      },
      "execution_count": 29,
      "outputs": [
        {
          "output_type": "stream",
          "name": "stdout",
          "text": [
            "Mean Squared Error (MSE): 0.06682041444493918\n",
            "R-squared: 0.9550354659032909\n"
          ]
        }
      ]
    },
    {
      "cell_type": "markdown",
      "source": [
        "Append predictions for entire subset to comparison dataframe"
      ],
      "metadata": {
        "id": "PcAQFEZJXdcv"
      }
    },
    {
      "cell_type": "code",
      "source": [
        "y_pred_all = lr.predict(slender_no_shear.drop('Stress', axis=1))\n",
        "Predicted_V = y_pred_all * slender_no_shear['bw'] * slender_no_shear['d']\n",
        "slender_no_shear_comp['V_ML'] = Predicted_V\n",
        "# Print the DataFrame with the new column\n",
        "print(slender_no_shear_comp)"
      ],
      "metadata": {
        "colab": {
          "base_uri": "https://localhost:8080/"
        },
        "id": "_L5a9bSdpVrj",
        "outputId": "f9cbec9a-d521-440b-d74f-1ae1dcd96be9"
      },
      "execution_count": 30,
      "outputs": [
        {
          "output_type": "stream",
          "name": "stdout",
          "text": [
            "      V_ACI_Prediction  Vtest          V_ML\n",
            "21         8243.224490   7.50  26850.551700\n",
            "22         8243.224490   9.80  26859.958695\n",
            "23         8243.224490  12.00  26880.444342\n",
            "24        11461.738524  10.10  48651.796667\n",
            "25        11461.738524  10.70  48654.932332\n",
            "...                ...    ...           ...\n",
            "1273       7843.371471   7.55  28484.017473\n",
            "1274       7439.444990   5.50  25896.699419\n",
            "1275       8371.128426   6.15  31739.274824\n",
            "1276       8125.510521   6.75  29817.296187\n",
            "1277       8336.166541   5.53  31072.383590\n",
            "\n",
            "[593 rows x 3 columns]\n"
          ]
        }
      ]
    },
    {
      "cell_type": "markdown",
      "source": [
        "### Regression for Very Slender Beams with No Shear Reinforcement:"
      ],
      "metadata": {
        "id": "qCDVEJDTIZWq"
      }
    },
    {
      "cell_type": "markdown",
      "source": [
        "Use Histogram Gradient Boost Regressor with a minimum_samples per leaf is 7"
      ],
      "metadata": {
        "id": "JpZgmgKlYRBz"
      }
    },
    {
      "cell_type": "code",
      "source": [
        "def very_slender_no_shear_regression(X, y, test_size=0.2, random_state=42, min_samples_leaf=7):\n",
        "    # Split the data into training and testing sets\n",
        "    X_train, X_test, y_train, y_test = train_test_split(X, y, test_size=test_size, random_state=random_state)\n",
        "\n",
        "    # Initialize and train the model\n",
        "    HGB = HistGradientBoostingRegressor(min_samples_leaf=min_samples_leaf, random_state=random_state)\n",
        "    HGB.fit(X_train, y_train)\n",
        "\n",
        "    # Predict on the test set\n",
        "    y_pred = HGB.predict(X_test)\n",
        "\n",
        "    # Calculate metrics\n",
        "    mse = mean_squared_error(y_test, y_pred)\n",
        "    r2 = r2_score(y_test, y_pred)\n",
        "\n",
        "\n",
        "    return mse, r2, HGB\n",
        "\n",
        "\n",
        "X = very_slender_no_shear_sd.drop('Stress', axis=1)\n",
        "y = very_slender_no_shear_sd['Stress']\n",
        "mse, r2, HGB = very_slender_no_shear_regression(X, y)\n",
        "print(mse)\n",
        "print(r2)"
      ],
      "metadata": {
        "colab": {
          "base_uri": "https://localhost:8080/"
        },
        "id": "WCUu14BXRA6i",
        "outputId": "469f297a-6d3a-4cfc-8068-aa06b6bc9523"
      },
      "execution_count": 44,
      "outputs": [
        {
          "output_type": "stream",
          "name": "stdout",
          "text": [
            "0.0746367595915457\n",
            "0.8986552030969148\n"
          ]
        }
      ]
    },
    {
      "cell_type": "markdown",
      "source": [
        "Append predictions for entire subset to comparison dataframe"
      ],
      "metadata": {
        "id": "ffztR4pcXeos"
      }
    },
    {
      "cell_type": "code",
      "source": [
        "y_pred_all = HGB.predict(very_slender_no_shear.drop('Stress', axis=1))\n",
        "Predicted_V = y_pred_all * very_slender_no_shear['bw'] * very_slender_no_shear['d']\n",
        "# Ensure `very_slender_no_shear_comp` has the same index as `very_slender_no_shear`\n",
        "very_slender_no_shear_comp['V_ML'] = Predicted_V\n",
        "# Print the DataFrame with the new column\n",
        "print(very_slender_no_shear_comp)\n"
      ],
      "metadata": {
        "colab": {
          "base_uri": "https://localhost:8080/"
        },
        "id": "UbPwgM_jWGo9",
        "outputId": "d7143190-0ddc-4bff-8809-942d8be33384"
      },
      "execution_count": 45,
      "outputs": [
        {
          "output_type": "stream",
          "name": "stdout",
          "text": [
            "      V_ACI_Prediction   Vtest  percent_diff_ACI          V_ML\n",
            "34        14435.452885    9.70     148719.101909    154.760081\n",
            "35        14435.452885   13.50     106829.280631    154.760081\n",
            "644        2034.698995    3.60      56419.416526     30.849186\n",
            "645        1886.663722    3.82      49289.102671     30.849186\n",
            "646        1918.593235    3.57      53642.107413     30.849186\n",
            "...                ...     ...               ...           ...\n",
            "1113     828186.329789  354.08     233798.082295  14346.057151\n",
            "1151       7229.937759   11.11      64975.947426    123.396742\n",
            "1219      10848.731026   14.78      73301.427782    168.295058\n",
            "1220      10699.982429   14.78      72295.009668    165.987539\n",
            "1264      32476.328014   42.50      76314.889444    452.284229\n",
            "\n",
            "[67 rows x 4 columns]\n"
          ]
        }
      ]
    },
    {
      "cell_type": "markdown",
      "source": [
        "# Model Evaluation"
      ],
      "metadata": {
        "id": "rwSgIHA20ll_"
      }
    },
    {
      "cell_type": "code",
      "source": [
        "def calculate_and_append_percent_differences(df):\n",
        "\n",
        "    # Calculate percent differences\n",
        "    df['percent_diff_ACI'] = np.abs((df['V_ACI_Prediction'] - df['Vtest']) / df['Vtest'] * 100)\n",
        "    df['percent_diff_ML'] = np.abs((df['V_ML'] - df['Vtest']) / df['Vtest'] * 100)\n",
        "\n",
        "    # Print average percent differences\n",
        "    avg_percent_diff_ACI = df['percent_diff_ACI'].mean()\n",
        "    avg_percent_diff_ML = df['percent_diff_ML'].mean()\n",
        "    avg_V_ACI = df['V_ACI_Prediction'].mean()\n",
        "    avg_V_ML = df['V_ML'].mean()\n",
        "    avg_Vtest = df['Vtest'].mean()\n",
        "\n",
        "    print(f\"Average Percent Difference (V_ACI_Prediction vs Vtest): {avg_percent_diff_ACI:.2f}%\")\n",
        "    print(f\"Average Percent Difference (V_ML vs Vtest): {avg_percent_diff_ML:.2f}%\")\n",
        "    print(f\"Average V_ACI_Prediction: {avg_V_ACI:.2f}\")\n",
        "    print(f\"Average V_ML: {avg_V_ML:.2f}\")\n",
        "    print(f\"Average Vtest: {avg_Vtest:.2f}\")\n",
        "\n",
        "    return df\n",
        "\n",
        "calculate_and_append_percent_differences(very_short_shear_comp)\n",
        "print(very_short_shear_comp)"
      ],
      "metadata": {
        "colab": {
          "base_uri": "https://localhost:8080/"
        },
        "id": "n6yFwU6v0nWt",
        "outputId": "a06b1bd0-37a8-4211-defd-2fa43f393095"
      },
      "execution_count": 47,
      "outputs": [
        {
          "output_type": "stream",
          "name": "stdout",
          "text": [
            "Average Percent Difference (V_ACI_Prediction vs Vtest): 10886.32%\n",
            "Average Percent Difference (V_ML vs Vtest): 140.49%\n",
            "Average V_ACI_Prediction: 10770.73\n",
            "Average V_ML: 220.35\n",
            "Average Vtest: 111.48\n",
            "      V_ACI_Prediction   Vtest        V_ML  percent_diff_ACI  percent_diff_ML\n",
            "176       13618.152762  170.86  131.535767       7870.357464        23.015470\n",
            "180       14036.206582  174.23  131.534613       7956.136476        24.505187\n",
            "324       15530.541544  122.52  286.120293      12575.923559       133.529459\n",
            "328       15187.956466  187.72  282.391813       7990.750301        50.432459\n",
            "329       14600.452065  166.36  282.391813       8676.419852        69.747423\n",
            "330       14600.452065  119.15  282.391813      12153.841431       137.005298\n",
            "335       14420.711822  207.95  268.126325       6834.701526        28.937882\n",
            "336       13862.886175  161.86  268.126325       8464.738771        65.653234\n",
            "337       13862.886175  150.62  268.126325       9103.881407        78.015088\n",
            "346       14582.432810  151.75  295.522546       9509.510913        94.743029\n",
            "347       13658.419992  141.63  295.522546       9543.733667       108.658156\n",
            "348       13950.008203  143.88  295.522546       9595.585351       105.395153\n",
            "349       14391.467212  141.63  295.522546      10061.312724       108.658156\n",
            "350       14223.364299  105.21  295.522546      13419.023191       180.888267\n",
            "351       12848.863712  100.04  295.522546      12743.726221       195.404384\n",
            "352       13950.008203  112.41  295.522546      12309.935240       162.897025\n",
            "353       13838.793814  107.91  295.522546      12724.384963       173.860204\n",
            "354       13596.236182   90.60  295.522546      14906.883204       226.183826\n",
            "355       12604.063724   89.92  295.522522      13916.974783       228.650492\n",
            "411        3945.630554   16.08  105.501862      24437.503444       556.106108\n",
            "412        3945.630554   16.29  105.501862      24121.182037       547.648019\n",
            "424        6175.515786   28.16  105.501862      21830.098673       274.651499\n",
            "425        6548.486718   31.18  105.501862      20902.202430       238.363894\n",
            "1040      10935.981437  100.80  346.529137      10749.187934       243.778906\n",
            "1041       9072.339279   94.20  184.340489       9530.933418        95.690540\n",
            "1042       6949.699274   85.00  207.779798       8076.116793       144.446821\n",
            "1043       5716.098320   61.80  151.625092       9149.350032       145.348046\n",
            "1045      10935.981437   91.90    4.529137      11799.870987        95.071668\n",
            "1046       9072.339279   94.40  263.940703       9510.528898       179.598202\n",
            "1047       6949.699274   80.30   96.782594       8554.669084        20.526269\n",
            "1048       5716.098320   66.60  151.625092       8482.730210       127.665303\n",
            "1058      10882.373362  125.60  175.529137       8564.310002        39.752497\n",
            "1059       9563.085276  119.70  263.939975       7889.210757       120.501232\n",
            "1060       7746.177767   85.40   97.055051       8970.465769        13.647600\n",
            "1061       5173.865093   67.90  151.625092       7519.830770       123.306469\n",
            "1073      10882.373362  143.40  346.529137       7488.823823       141.652118\n",
            "1074       9563.085276  151.40  325.338476       6216.436774       114.886708\n",
            "1075       7746.177767  129.20   96.783047       5895.493628        25.090521\n",
            "1076       5173.865093  112.00  151.625083       4519.522404        35.379538\n"
          ]
        }
      ]
    },
    {
      "cell_type": "code",
      "source": [
        "calculate_and_append_percent_differences(short_shear_comp)\n",
        "print(short_shear_comp)"
      ],
      "metadata": {
        "colab": {
          "base_uri": "https://localhost:8080/"
        },
        "id": "jdTYzoVr26NN",
        "outputId": "4b0efb25-333a-42bc-aeaa-e918318d1c84"
      },
      "execution_count": 48,
      "outputs": [
        {
          "output_type": "stream",
          "name": "stdout",
          "text": [
            "Average Percent Difference (V_ACI_Prediction vs Vtest): 25481.81%\n",
            "Average Percent Difference (V_ML vs Vtest): 140.48%\n",
            "Average V_ACI_Prediction: 17336.00\n",
            "Average V_ML: 151.68\n",
            "Average Vtest: 72.07\n",
            "      V_ACI_Prediction   Vtest        V_ML  percent_diff_ACI  percent_diff_ML\n",
            "90         5657.450839   33.69   66.800444      16692.670939        98.279740\n",
            "91         6389.150961   18.92   66.800444      33669.296833       253.067887\n",
            "96         8523.083949   62.36   63.089566      13567.549629         1.169926\n",
            "97         8699.710340   30.45   63.089566      28470.477307       107.190693\n",
            "182       16002.244599  116.90  118.556800      13588.831992         1.417280\n",
            "...                ...     ...         ...               ...              ...\n",
            "998       16760.578749  114.00  198.188199      14602.262060        73.849298\n",
            "1044       3340.402670   40.30   39.901185       8188.840373         0.989615\n",
            "1049       3340.402670   33.80   39.901185       9782.848137        18.050843\n",
            "1062       3555.398712   41.40   40.080267       8487.919594         3.187762\n",
            "1077       3555.398712   55.70   39.901185       6283.121565        28.364120\n",
            "\n",
            "[139 rows x 5 columns]\n"
          ]
        }
      ]
    },
    {
      "cell_type": "code",
      "source": [
        "calculate_and_append_percent_differences(slender_shear_comp)\n",
        "print(slender_shear_comp)"
      ],
      "metadata": {
        "colab": {
          "base_uri": "https://localhost:8080/"
        },
        "id": "pYT6-u3W3FHV",
        "outputId": "740df159-7dfb-443e-f5f5-15616d558a70"
      },
      "execution_count": 49,
      "outputs": [
        {
          "output_type": "stream",
          "name": "stdout",
          "text": [
            "Average Percent Difference (V_ACI_Prediction vs Vtest): 51708.91%\n",
            "Average Percent Difference (V_ML vs Vtest): 592267.13%\n",
            "Average V_ACI_Prediction: 32217.36\n",
            "Average V_ML: -411003.26\n",
            "Average Vtest: 66.12\n",
            "      V_ACI_Prediction   Vtest          V_ML  percent_diff_ACI  \\\n",
            "92         6837.086368   14.23 -3.523278e+04      47946.987827   \n",
            "98         8876.249208   20.78 -3.198986e+04      42615.347487   \n",
            "99         8821.244810   24.06 -2.982752e+04      36563.527889   \n",
            "100        8758.951992   27.13 -2.782900e+04      32185.116079   \n",
            "101        8555.145820   21.31 -3.199361e+04      40046.155889   \n",
            "...                ...     ...           ...               ...   \n",
            "1085      58597.464557   59.13 -1.708275e+06      98999.381966   \n",
            "1086      47469.371672   63.40 -1.707885e+06      74772.825981   \n",
            "1087      63855.106588   62.27 -1.707894e+06     102445.538120   \n",
            "1088      83514.236326  101.61 -1.707894e+06      82090.961840   \n",
            "1089      92650.726555   88.80 -1.707894e+06     104236.403778   \n",
            "\n",
            "      percent_diff_ML  \n",
            "92       2.476951e+05  \n",
            "98       1.540454e+05  \n",
            "99       1.240714e+05  \n",
            "100      1.026765e+05  \n",
            "101      1.502342e+05  \n",
            "...               ...  \n",
            "1085     2.889115e+06  \n",
            "1086     2.693926e+06  \n",
            "1087     2.742824e+06  \n",
            "1088     1.680933e+06  \n",
            "1089     1.923405e+06  \n",
            "\n",
            "[138 rows x 5 columns]\n"
          ]
        }
      ]
    },
    {
      "cell_type": "code",
      "source": [
        "calculate_and_append_percent_differences(very_short_no_shear_comp)\n",
        "print(very_short_no_shear_comp)"
      ],
      "metadata": {
        "colab": {
          "base_uri": "https://localhost:8080/"
        },
        "id": "ihc4Y-RF8weo",
        "outputId": "14454d1f-9b13-4960-ff32-9d69f73a38f8"
      },
      "execution_count": 50,
      "outputs": [
        {
          "output_type": "stream",
          "name": "stdout",
          "text": [
            "Average Percent Difference (V_ACI_Prediction vs Vtest): 15518.31%\n",
            "Average Percent Difference (V_ML vs Vtest): 125.13%\n",
            "Average V_ACI_Prediction: 15258.61\n",
            "Average V_ML: -24.95\n",
            "Average Vtest: 101.61\n",
            "      V_ACI_Prediction   Vtest       V_ML  percent_diff_ACI  percent_diff_ML\n",
            "175       13630.680580  112.41 -16.858409      12025.861205       114.997250\n",
            "177       13976.901262  125.89 -16.858409      11002.471413       113.391381\n",
            "178       14509.765150  130.39 -16.858409      11027.973886       112.929219\n",
            "179       13786.730479  174.23 -16.858409       7812.948676       109.675951\n",
            "378        4695.206066   30.50  -6.034542      15294.118248       119.785383\n",
            "382        5304.658330   32.00  -6.034542      16477.057282       118.857943\n",
            "416        3945.630554   15.06  -6.298318      26099.406067       141.821503\n",
            "417        3945.630554   15.18  -6.298318      25892.296138       141.490899\n",
            "426        6175.515786   22.12  -6.298318      27818.244965       128.473411\n",
            "427        6548.486718   29.14  -6.298318      22372.500747       121.613996\n",
            "498       37845.045600  149.05 -65.785000      25290.839048       144.136196\n",
            "499       37845.045600  138.93 -65.785000      27140.369683       147.351184\n",
            "502       42413.278541  142.75 -65.785000      29611.578663       146.084063\n",
            "503       42413.278541  136.01 -65.785000      31083.941284       148.367767\n",
            "504       41638.164983   93.97 -65.785000      44210.061704       170.006384\n",
            "505       41638.164983  156.24 -65.785000      26550.131198       142.105094\n",
            "672       16023.123291   82.50 -38.889270      19321.967626       147.138509\n",
            "673       15184.908297   62.50 -39.559775      24195.853276       163.295639\n",
            "674       19556.898527  115.00 -38.218765      16905.998719       133.233709\n",
            "675       21508.539699  112.50 -38.889270      19018.701955       134.568240\n",
            "676       22526.112847  115.00 -38.889270      19487.924215       133.816756\n",
            "678       28654.582880  175.00 -38.889270      16274.047360       122.222440\n",
            "1050      10935.981437  152.50 -19.109383       7071.135369       112.530743\n",
            "1051       6949.699274  112.00 -12.404336       6105.088638       111.075300\n",
            "1052       5716.098320   77.60  -9.051813       7266.106082       111.664707\n",
            "1054      10935.981437  125.40 -19.109383       8620.878339       115.238742\n",
            "1055       6949.699274   94.00 -12.404336       7293.297100       113.196102\n",
            "1056       5716.098320   71.70  -9.051813       7872.243124       112.624565\n",
            "1063      11278.224594  125.00 -19.109383       8922.579675       115.287506\n",
            "1064       9563.085276  112.00 -15.756859       8438.468997       114.068624\n",
            "1065       7746.177767   98.50 -12.404336       7764.139865       112.593235\n",
            "1066       5173.865093   67.20  -9.051813       7599.204007       113.469960\n",
            "1068      10882.373362  107.70 -19.109383      10004.339241       117.743159\n",
            "1069      10882.373362  110.30 -19.109383       9766.158987       117.324916\n",
            "1070      11278.224594  115.20 -19.109383       9690.125516       116.588006\n",
            "1071      11278.224594  127.50 -19.109383       8745.666348       114.987751\n",
            "1072      11278.224594  130.50 -19.109383       8542.317697       114.643205\n",
            "1090       8960.000000  100.00 -14.304099       8860.000000       114.304099\n",
            "1091       9141.028389  100.00 -14.304099       9041.028389       114.304099\n",
            "1092       8461.564867   82.50 -14.304099      10156.442263       117.338302\n",
            "1093       8709.645228   90.00 -14.304099       9577.383587       115.893444\n"
          ]
        }
      ]
    },
    {
      "cell_type": "code",
      "source": [
        "calculate_and_append_percent_differences(short_no_shear_comp)\n",
        "print(short_no_shear_comp)"
      ],
      "metadata": {
        "colab": {
          "base_uri": "https://localhost:8080/"
        },
        "id": "rS-on_2Z9LQJ",
        "outputId": "dc509010-18a7-4939-89fb-403a9e81d735"
      },
      "execution_count": 51,
      "outputs": [
        {
          "output_type": "stream",
          "name": "stdout",
          "text": [
            "Average Percent Difference (V_ACI_Prediction vs Vtest): 38721.11%\n",
            "Average Percent Difference (V_ML vs Vtest): 1003.54%\n",
            "Average V_ACI_Prediction: 13196.57\n",
            "Average V_ML: 376.77\n",
            "Average Vtest: 42.95\n",
            "      V_ACI_Prediction  Vtest        V_ML  percent_diff_ACI  percent_diff_ML\n",
            "0         10473.927630  25.40  261.248417      41135.935551       928.537073\n",
            "1          7643.538448  18.50  252.963009      41216.424041      1267.367618\n",
            "2          9216.105468  21.61  252.963009      42547.410773      1070.583106\n",
            "3          7249.107531   9.90  252.963009      73123.308397      2455.181912\n",
            "4          8058.091585  11.00  252.963009      73155.378050      2199.663721\n",
            "...                ...    ...         ...               ...              ...\n",
            "1233       9423.624830  22.58  438.910265      41634.388089      1843.800998\n",
            "1234      10294.936886  18.35  323.774269      56003.198287      1664.437436\n",
            "1235      10294.936886  19.56  323.774269      52532.601665      1555.287676\n",
            "1257      15350.632237  18.10  465.180370      84710.122855      2470.057291\n",
            "1258      15350.632237  18.10  465.180370      84710.122855      2470.057291\n",
            "\n",
            "[256 rows x 5 columns]\n"
          ]
        }
      ]
    },
    {
      "cell_type": "code",
      "source": [
        "calculate_and_append_percent_differences(slender_no_shear_comp)\n",
        "print(slender_no_shear_comp)"
      ],
      "metadata": {
        "colab": {
          "base_uri": "https://localhost:8080/"
        },
        "id": "5bMENk2o9bUn",
        "outputId": "d16f7efb-f451-4433-f575-e32edf4ceb12"
      },
      "execution_count": 52,
      "outputs": [
        {
          "output_type": "stream",
          "name": "stdout",
          "text": [
            "Average Percent Difference (V_ACI_Prediction vs Vtest): 78826.04%\n",
            "Average Percent Difference (V_ML vs Vtest): 797753.09%\n",
            "Average V_ACI_Prediction: 17203.36\n",
            "Average V_ML: 411022.05\n",
            "Average Vtest: 18.80\n",
            "      V_ACI_Prediction  Vtest          V_ML  percent_diff_ACI  percent_diff_ML\n",
            "21         8243.224490   7.50  26850.551700     109809.659873    357907.355997\n",
            "22         8243.224490   9.80  26859.958695      84014.535617    273981.211175\n",
            "23         8243.224490  12.00  26880.444342      68593.537420    223903.702853\n",
            "24        11461.738524  10.10  48651.796667     113382.559647    481600.957096\n",
            "25        11461.738524  10.70  48654.932332     107019.051629    454618.993755\n",
            "...                ...    ...           ...               ...              ...\n",
            "1273       7843.371471   7.55  28484.017473     103785.714842    377171.754604\n",
            "1274       7439.444990   5.50  25896.699419     135162.636174    470749.080352\n",
            "1275       8371.128426   6.15  31739.274824     136015.909360    515985.769504\n",
            "1276       8125.510521   6.75  29817.296187     120277.933643    441637.721285\n",
            "1277       8336.166541   5.53  31072.383590     150644.422081    561787.587514\n",
            "\n",
            "[593 rows x 5 columns]\n"
          ]
        }
      ]
    },
    {
      "cell_type": "code",
      "source": [
        "calculate_and_append_percent_differences(very_slender_no_shear_comp)\n",
        "print(very_slender_no_shear_comp)"
      ],
      "metadata": {
        "colab": {
          "base_uri": "https://localhost:8080/"
        },
        "id": "hTOTIhs49gX-",
        "outputId": "36ee084f-5a6d-4436-b42d-d1e7afe35fe7"
      },
      "execution_count": 53,
      "outputs": [
        {
          "output_type": "stream",
          "name": "stdout",
          "text": [
            "Average Percent Difference (V_ACI_Prediction vs Vtest): 76273.12%\n",
            "Average Percent Difference (V_ML vs Vtest): 1200.56%\n",
            "Average V_ACI_Prediction: 30064.68\n",
            "Average V_ML: 507.18\n",
            "Average Vtest: 22.09\n",
            "      V_ACI_Prediction   Vtest  percent_diff_ACI          V_ML  \\\n",
            "34        14435.452885    9.70     148719.101909    154.760081   \n",
            "35        14435.452885   13.50     106829.280631    154.760081   \n",
            "644        2034.698995    3.60      56419.416526     30.849186   \n",
            "645        1886.663722    3.82      49289.102671     30.849186   \n",
            "646        1918.593235    3.57      53642.107413     30.849186   \n",
            "...                ...     ...               ...           ...   \n",
            "1113     828186.329789  354.08     233798.082295  14346.057151   \n",
            "1151       7229.937759   11.11      64975.947426    123.396742   \n",
            "1219      10848.731026   14.78      73301.427782    168.295058   \n",
            "1220      10699.982429   14.78      72295.009668    165.987539   \n",
            "1264      32476.328014   42.50      76314.889444    452.284229   \n",
            "\n",
            "      percent_diff_ML  \n",
            "34        1495.464754  \n",
            "35        1046.370971  \n",
            "644        756.921822  \n",
            "645        707.570304  \n",
            "646        764.122846  \n",
            "...               ...  \n",
            "1113      3951.642892  \n",
            "1151      1010.681750  \n",
            "1219      1038.667514  \n",
            "1220      1023.055070  \n",
            "1264       964.198186  \n",
            "\n",
            "[67 rows x 5 columns]\n"
          ]
        }
      ]
    }
  ]
}